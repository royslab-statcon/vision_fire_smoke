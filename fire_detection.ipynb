{
 "cells": [
  {
   "cell_type": "code",
   "execution_count": 1,
   "id": "56538c2c-6667-41ad-997c-2437f3382e48",
   "metadata": {},
   "outputs": [],
   "source": [
    "import os\n",
    "os.chdir(\"/DB+/fire_vision/gen2-fire-detection\")"
   ]
  },
  {
   "cell_type": "code",
   "execution_count": null,
   "id": "98fc4913-8ee4-41da-8e46-e13633cd80a3",
   "metadata": {},
   "outputs": [],
   "source": [
    "#https://github.com/luxonis/depthai-experiments/tree/master/gen2-fire-detection\n",
    "#luxonis/depthai-experiments"
   ]
  },
  {
   "cell_type": "code",
   "execution_count": 2,
   "id": "2891ef69-361c-4b4c-8a73-216c3d74586b",
   "metadata": {},
   "outputs": [
    {
     "name": "stderr",
     "output_type": "stream",
     "text": [
      "Cloning into 'depthai-experiments'...\n",
      "Updating files:  30% (161/528)\n",
      "Updating files:  31% (164/528)\n",
      "Updating files:  32% (169/528)\n",
      "Updating files:  33% (175/528)\n",
      "Updating files:  34% (180/528)\n",
      "Updating files:  35% (185/528)\n",
      "Updating files:  36% (191/528)\n",
      "Updating files:  37% (196/528)\n",
      "Updating files:  38% (201/528)\n",
      "Updating files:  39% (206/528)\n",
      "Updating files:  40% (212/528)\n",
      "Updating files:  41% (217/528)\n",
      "Updating files:  42% (222/528)\n",
      "Updating files:  43% (228/528)\n",
      "Updating files:  44% (233/528)\n",
      "Updating files:  45% (238/528)\n",
      "Updating files:  46% (243/528)\n",
      "Updating files:  47% (249/528)\n",
      "Updating files:  48% (254/528)\n",
      "Updating files:  49% (259/528)\n",
      "Updating files:  50% (264/528)\n",
      "Updating files:  51% (270/528)\n",
      "Updating files:  52% (275/528)\n",
      "Updating files:  53% (280/528)\n",
      "Updating files:  54% (286/528)\n",
      "Updating files:  54% (290/528)\n",
      "Updating files:  55% (291/528)\n",
      "Updating files:  56% (296/528)\n",
      "Updating files:  57% (301/528)\n",
      "Updating files:  58% (307/528)\n",
      "Updating files:  59% (312/528)\n",
      "Updating files:  60% (317/528)\n",
      "Updating files:  61% (323/528)\n",
      "Updating files:  62% (328/528)\n",
      "Updating files:  63% (333/528)\n",
      "Updating files:  64% (338/528)\n",
      "Updating files:  65% (344/528)\n",
      "Updating files:  66% (349/528)\n",
      "Updating files:  67% (354/528)\n",
      "Updating files:  68% (360/528)\n",
      "Updating files:  69% (365/528)\n",
      "Updating files:  70% (370/528)\n",
      "Updating files:  71% (375/528)\n",
      "Updating files:  72% (381/528)\n",
      "Updating files:  73% (386/528)\n",
      "Updating files:  74% (391/528)\n",
      "Updating files:  75% (396/528)\n",
      "Updating files:  76% (402/528)\n",
      "Updating files:  77% (407/528)\n",
      "Updating files:  78% (412/528)\n",
      "Updating files:  79% (418/528)\n",
      "Updating files:  80% (423/528)\n",
      "Updating files:  81% (428/528)\n",
      "Updating files:  82% (433/528)\n",
      "Updating files:  83% (439/528)\n",
      "Updating files:  84% (444/528)\n",
      "Updating files:  85% (449/528)\n",
      "Updating files:  86% (455/528)\n",
      "Updating files:  87% (460/528)\n",
      "Updating files:  88% (465/528)\n",
      "Updating files:  89% (470/528)\n",
      "Updating files:  90% (476/528)\n",
      "Updating files:  91% (481/528)\n",
      "Updating files:  92% (486/528)\n",
      "Updating files:  93% (492/528)\n",
      "Updating files:  94% (497/528)\n",
      "Updating files:  95% (502/528)\n",
      "Updating files:  96% (507/528)\n",
      "Updating files:  97% (513/528)\n",
      "Updating files:  98% (518/528)\n",
      "Updating files:  99% (523/528)\n",
      "Updating files: 100% (528/528)\n",
      "Updating files: 100% (528/528), done.\n"
     ]
    }
   ],
   "source": [
    "!git clone \"https://github.com/luxonis/depthai-experiments.git\""
   ]
  },
  {
   "cell_type": "code",
   "execution_count": 5,
   "id": "543e5999-c1b7-4912-aec9-9c254401d046",
   "metadata": {},
   "outputs": [
    {
     "name": "stdout",
     "output_type": "stream",
     "text": [
      "Requirement already satisfied: depthai==2.15.2.0 in c:\\users\\user\\appdata\\roaming\\python\\python38\\site-packages (from -r requirements.txt (line 1)) (2.15.2.0)\n",
      "Requirement already satisfied: opencv-python in c:\\users\\user\\appdata\\roaming\\python\\python38\\site-packages (from -r requirements.txt (line 2)) (4.5.1.48)\n",
      "Requirement already satisfied: numpy in c:\\programdata\\anaconda3\\envs\\gpu_2\\lib\\site-packages (from -r requirements.txt (line 3)) (1.20.3)\n",
      "Requirement already satisfied: scipy in c:\\programdata\\anaconda3\\envs\\gpu_2\\lib\\site-packages (from -r requirements.txt (line 4)) (1.7.1)\n",
      "Requirement already satisfied: imutils in c:\\programdata\\anaconda3\\envs\\gpu_2\\lib\\site-packages (from -r requirements.txt (line 5)) (0.5.4)\n"
     ]
    }
   ],
   "source": [
    "!python -m pip install -r requirements.txt"
   ]
  },
  {
   "cell_type": "code",
   "execution_count": null,
   "id": "a32d4ea5-f23f-423c-8ec5-e548b6fd5bc1",
   "metadata": {},
   "outputs": [],
   "source": [
    "!python main.py -cam"
   ]
  },
  {
   "cell_type": "code",
   "execution_count": 10,
   "id": "06547077-ef15-42bf-8632-2a1759b0b2bf",
   "metadata": {},
   "outputs": [
    {
     "name": "stdout",
     "output_type": "stream",
     "text": [
      "Reinitialized existing Git repository in D:/DB+/fire_vision/gen2-fire-detection/.git/\n"
     ]
    }
   ],
   "source": [
    "!git init"
   ]
  },
  {
   "cell_type": "code",
   "execution_count": 11,
   "id": "ee1e05e9-cba1-487c-b145-67d4a3e59884",
   "metadata": {},
   "outputs": [
    {
     "name": "stdout",
     "output_type": "stream",
     "text": [
      "On branch main\n",
      "Your branch is up to date with 'origin/main'.\n",
      "\n",
      "Untracked files:\n",
      "  (use \"git add <file>...\" to include in what will be committed)\n",
      "\t.ipynb_checkpoints/\n",
      "\tREADME.zh-CN.md\n",
      "\tfire_detection.ipynb\n",
      "\timages/\n",
      "\tmain.py\n",
      "\tmodels/\n",
      "\trequirements.txt\n",
      "\n",
      "nothing added to commit but untracked files present (use \"git add\" to track)\n"
     ]
    }
   ],
   "source": [
    "!git status"
   ]
  },
  {
   "cell_type": "code",
   "execution_count": 15,
   "id": "d98afdf8-a7ac-45f0-820c-3bcd6db4f843",
   "metadata": {},
   "outputs": [],
   "source": [
    "!git remote remove origin"
   ]
  },
  {
   "cell_type": "code",
   "execution_count": 16,
   "id": "a566c710-4731-421d-bd4d-f8a55cfd2cb4",
   "metadata": {},
   "outputs": [
    {
     "name": "stdout",
     "output_type": "stream",
     "text": [
      "Reinitialized existing Git repository in D:/DB+/fire_vision/gen2-fire-detection/.git/\n",
      "[main 7edede6] first commit\n",
      " 1 file changed, 1 insertion(+)\n",
      "branch 'main' set up to track 'origin/main'.\n"
     ]
    },
    {
     "name": "stderr",
     "output_type": "stream",
     "text": [
      "To https://github.com/royslab-statcon/vision_fire_smoke.git\n",
      " * [new branch]      main -> main\n"
     ]
    }
   ],
   "source": [
    "!echo \"# vision_fire_smoke\" >> README.md\n",
    "!git init\n",
    "!git add README.md\n",
    "!git commit -m \"first commit\"\n",
    "!git branch -M main\n",
    "!git remote add origin https://github.com/royslab-statcon/vision_fire_smoke.git\n",
    "!git push -u origin main"
   ]
  },
  {
   "cell_type": "code",
   "execution_count": null,
   "id": "60aa0a48-c9df-45cc-a9b7-a46842764746",
   "metadata": {},
   "outputs": [],
   "source": []
  }
 ],
 "metadata": {
  "kernelspec": {
   "display_name": "Python 3 (ipykernel)",
   "language": "python",
   "name": "python3"
  },
  "language_info": {
   "codemirror_mode": {
    "name": "ipython",
    "version": 3
   },
   "file_extension": ".py",
   "mimetype": "text/x-python",
   "name": "python",
   "nbconvert_exporter": "python",
   "pygments_lexer": "ipython3",
   "version": "3.8.12"
  }
 },
 "nbformat": 4,
 "nbformat_minor": 5
}
